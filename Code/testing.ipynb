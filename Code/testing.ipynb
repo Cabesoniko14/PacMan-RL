{
 "cells": [
  {
   "attachments": {},
   "cell_type": "markdown",
   "metadata": {},
   "source": [
    "# **Testing**"
   ]
  },
  {
   "attachments": {},
   "cell_type": "markdown",
   "metadata": {},
   "source": [
    "Describimos los pasos sencillos para crear un ambiente de gym que utilice Pacman de Atari 2600."
   ]
  },
  {
   "attachments": {},
   "cell_type": "markdown",
   "metadata": {},
   "source": [
    "## **Instructivo de descargas**"
   ]
  },
  {
   "attachments": {},
   "cell_type": "markdown",
   "metadata": {},
   "source": [
    " - pip install gym\n",
    " - conda install swig\n",
    " - pip install box2d\n",
    " - pip3 install box2d box2d-kengz\n",
    " - brew install swig \n",
    " - pip install pygame"
   ]
  },
  {
   "attachments": {},
   "cell_type": "markdown",
   "metadata": {},
   "source": [
    "## **1. Importar bibliotecas**"
   ]
  },
  {
   "cell_type": "code",
   "execution_count": 2,
   "metadata": {},
   "outputs": [],
   "source": [
    "import gym\n",
    "%matplotlib inline\n",
    "import matplotlib.pyplot as plt\n"
   ]
  },
  {
   "attachments": {},
   "cell_type": "markdown",
   "metadata": {},
   "source": [
    "ALE = Arcade Learning Environment"
   ]
  },
  {
   "attachments": {},
   "cell_type": "markdown",
   "metadata": {},
   "source": [
    "## **2. Crear el environment de Pacman**"
   ]
  },
  {
   "attachments": {},
   "cell_type": "markdown",
   "metadata": {},
   "source": [
    "Render_mode = 'human' permite que sea visual el juego en otra pestaña."
   ]
  },
  {
   "attachments": {},
   "cell_type": "markdown",
   "metadata": {},
   "source": [
    "<code>env = gym.make(\"ALE/MsPacman-v5\", render_mode=\"human\")</code>\n"
   ]
  },
  {
   "attachments": {},
   "cell_type": "markdown",
   "metadata": {},
   "source": [
    "## **3. Reset del environment**"
   ]
  },
  {
   "attachments": {},
   "cell_type": "markdown",
   "metadata": {},
   "source": [
    "Resetear el environment para crear un nuevo episodio."
   ]
  },
  {
   "attachments": {},
   "cell_type": "markdown",
   "metadata": {},
   "source": [
    "<code>episodio = env.reset()</code>"
   ]
  },
  {
   "attachments": {},
   "cell_type": "markdown",
   "metadata": {},
   "source": [
    "observation, reward, terminated, truncated, info = env.step(env.action_space.sample())\n",
    "print(info)"
   ]
  },
  {
   "attachments": {},
   "cell_type": "markdown",
   "metadata": {},
   "source": [
    "## **4. Ejemplo de juego aleatorizado**"
   ]
  },
  {
   "attachments": {},
   "cell_type": "markdown",
   "metadata": {},
   "source": [
    "Nos va a servir para al final comparar con un video como actua de forma aleatoria, y va cambiando por entrenos"
   ]
  },
  {
   "attachments": {},
   "cell_type": "markdown",
   "metadata": {},
   "source": [
    "- **Observación:** contiene información sobre el estado del ambiente en un episodio dado. Generalmente, contiene información en la velocidad a la que va el agente, los cambios de velocidad de otros agentes y la posición. \n",
    "- **info**\n",
    "- **Step:** actualiza los outputs\n",
    "- **Action_space.sample():** elige aleatoriamente una acción del espacio posible\n",
    "- **Terminated:** cuando termina el episodio (pierde o gana)\n",
    "- **Truncated:** cuando llega al máximo de steps"
   ]
  },
  {
   "attachments": {},
   "cell_type": "markdown",
   "metadata": {},
   "source": [
    "<code>\n",
    "env.action_space.seed(42) # Seed aleatoria\n",
    "\n",
    "observacion, info = env.reset(seed=42) # Resetear el environment a uno aleatorio, pero siempre el mismo\n",
    "\n",
    "for _ in range(100):  # Por cada paso, que son 100, ejecuta lo siguiente\n",
    "    observacion, reward, terminated, truncated, info = env.step(env.action_space.sample())\n",
    "    \n",
    "    print(reward)\n",
    "\n",
    "    if terminated or truncated:\n",
    "        observacion, info = env.reset()\n",
    "\n",
    "env.close()\n",
    "</code>"
   ]
  },
  {
   "attachments": {},
   "cell_type": "markdown",
   "metadata": {},
   "source": [
    "### **Reward system**"
   ]
  },
  {
   "attachments": {},
   "cell_type": "markdown",
   "metadata": {},
   "source": [
    "El sistema toma un modelo pr default de recompensa, que es el siguiente:\n"
   ]
  },
  {
   "attachments": {},
   "cell_type": "markdown",
   "metadata": {},
   "source": [
    "## **Nuevo environment**"
   ]
  },
  {
   "cell_type": "code",
   "execution_count": 3,
   "metadata": {},
   "outputs": [],
   "source": [
    "class PacmanEnv(gym.Env):\n",
    "    def __init__(self, render_mode=\"human\", seed=None):\n",
    "        if render_mode == \"human\":\n",
    "            self.env = gym.make(\"ALE/MsPacman-v5\", render_mode=\"human\")\n",
    "        else:\n",
    "            self.env = gym.make(\"ALE/MsPacman-v5\")\n",
    "        self.action_space = self.env.action_space\n",
    "        self.observation_space = self.env.observation_space\n",
    "        self.seed = seed\n",
    "        self.lives = self.env.ale.lives()\n",
    "        \n",
    "        # Dejamos lo demás igual, nos ayuda mucho que tengamos las posibles acciones\n",
    "        \n",
    "    def step(self, action):\n",
    "        observation, reward, terminated, truncated, info = self.env.step(action)\n",
    "\n",
    "        # custom reward\n",
    "        if reward > 0: # recibió algún tipo de reward\n",
    "            \n",
    "            if info['lives'] > 0:  # Si el número de vidas de pacman es positivo\n",
    "                if reward == 10:  # En el caso por default, 10 de reward es por comer un puntito\n",
    "                    reward = 25 # Si come un puntito, que el reward sea __\n",
    "                elif reward == 50: # Si come un power pellet que activa el poder comer fantasmas\n",
    "                    reward = 60\n",
    "                elif reward == 200:  # En el caso por default, hay reward de 200 por comer un fantasma\n",
    "                    reward = 100 # Si come un fantasma, cuánto queremos de reward\n",
    "            else: # Si a pacman se le acabaron las vidas\n",
    "                done = True  # Pone en true la bandera de que acabó el juego\n",
    "                reward = -500  # Si perdemos, cuánto queremos que pierda de reward. Que le duela al pacman\n",
    "                \n",
    "        else:\n",
    "            reward = -1  # Cuando camine pero no consiga nada, que busque la ruta óptima. Importante !\n",
    "            \n",
    "            # Castigo por perder vidas\n",
    "            lives = info['lives']\n",
    "            if self.env.ale.lives() < lives:\n",
    "                # Agent lost a life:\n",
    "                reward -= 1000\n",
    "\n",
    "        return observation, reward, terminated, truncated, info\n",
    "\n",
    "    def reset(self):\n",
    "        return self.env.reset()\n",
    "\n",
    "    def render(self, mode=None, render=True):\n",
    "        if self.render_mode == 'human' and render:\n",
    "            self.env.render(mode=mode)\n",
    "\n",
    "    def close(self):\n",
    "        self.env.close()\n",
    "\n"
   ]
  },
  {
   "attachments": {},
   "cell_type": "markdown",
   "metadata": {},
   "source": [
    "Iniciar"
   ]
  },
  {
   "attachments": {},
   "cell_type": "markdown",
   "metadata": {},
   "source": [
    "Iniciar con <code>PacmanEnv(seed = x, render_mode = None)</code> para que no lo haga rendered."
   ]
  },
  {
   "cell_type": "code",
   "execution_count": 4,
   "metadata": {},
   "outputs": [
    {
     "name": "stderr",
     "output_type": "stream",
     "text": [
      "A.L.E: Arcade Learning Environment (version 0.8.1+53f58b7)\n",
      "[Powered by Stella]\n"
     ]
    }
   ],
   "source": [
    "env_new = PacmanEnv(seed = 45, render_mode = None)"
   ]
  },
  {
   "cell_type": "code",
   "execution_count": 5,
   "metadata": {},
   "outputs": [],
   "source": [
    "episodio_new = env_new.reset()"
   ]
  },
  {
   "cell_type": "code",
   "execution_count": 7,
   "metadata": {},
   "outputs": [],
   "source": [
    "\n",
    "observacion, info = env_new.reset() # Resetear el environment a uno aleatorio, pero siempre el mismo\n",
    "frames = [] # almacenar los frames\n",
    "for _ in range(30):  # Por cada paso, que son 100, ejecuta lo siguiente\n",
    "    observacion, reward, terminated, truncated, info = env_new.step(env_new.action_space.sample())\n",
    "    frames.append(observacion)\n",
    "\n",
    "    if terminated or truncated:\n",
    "        observacion, info = env_new.reset()\n",
    "\n",
    "env_new.close()"
   ]
  },
  {
   "cell_type": "code",
   "execution_count": 5,
   "metadata": {},
   "outputs": [
    {
     "name": "stdout",
     "output_type": "stream",
     "text": [
      "[[[  0   0   0]\n",
      "  [  0   0   0]\n",
      "  [  0   0   0]\n",
      "  ...\n",
      "  [  0   0   0]\n",
      "  [  0   0   0]\n",
      "  [  0   0   0]]\n",
      "\n",
      " [[228 111 111]\n",
      "  [228 111 111]\n",
      "  [228 111 111]\n",
      "  ...\n",
      "  [228 111 111]\n",
      "  [228 111 111]\n",
      "  [228 111 111]]\n",
      "\n",
      " [[228 111 111]\n",
      "  [228 111 111]\n",
      "  [228 111 111]\n",
      "  ...\n",
      "  [228 111 111]\n",
      "  [228 111 111]\n",
      "  [228 111 111]]\n",
      "\n",
      " ...\n",
      "\n",
      " [[  0   0   0]\n",
      "  [  0   0   0]\n",
      "  [  0   0   0]\n",
      "  ...\n",
      "  [  0   0   0]\n",
      "  [  0   0   0]\n",
      "  [  0   0   0]]\n",
      "\n",
      " [[  0   0   0]\n",
      "  [  0   0   0]\n",
      "  [  0   0   0]\n",
      "  ...\n",
      "  [  0   0   0]\n",
      "  [  0   0   0]\n",
      "  [  0   0   0]]\n",
      "\n",
      " [[  0   0   0]\n",
      "  [  0   0   0]\n",
      "  [  0   0   0]\n",
      "  ...\n",
      "  [  0   0   0]\n",
      "  [  0   0   0]\n",
      "  [  0   0   0]]]\n"
     ]
    }
   ],
   "source": [
    "observation, reward, terminated, truncated, info = env_new.step(env_new.action_space.sample())\n",
    "print(observation)"
   ]
  }
 ],
 "metadata": {
  "kernelspec": {
   "display_name": "Python 3",
   "language": "python",
   "name": "python3"
  },
  "language_info": {
   "codemirror_mode": {
    "name": "ipython",
    "version": 3
   },
   "file_extension": ".py",
   "mimetype": "text/x-python",
   "name": "python",
   "nbconvert_exporter": "python",
   "pygments_lexer": "ipython3",
   "version": "3.11.3"
  },
  "orig_nbformat": 4
 },
 "nbformat": 4,
 "nbformat_minor": 2
}
